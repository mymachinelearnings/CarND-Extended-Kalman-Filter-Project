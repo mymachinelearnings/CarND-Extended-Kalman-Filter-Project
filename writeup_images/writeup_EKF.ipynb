{
 "cells": [
  {
   "attachments": {},
   "cell_type": "markdown",
   "metadata": {},
   "source": [
    "### Term 2 Project 1 : Sensor Fusion with Extended Kalman Filters\n",
    "#### Project Writeup\n",
    "\n",
    "##### Project Summary\n",
    "In this project you will utilize a kalman filter to estimate the state of a moving object of interest with noisy lidar and radar measurements. Passing the project requires obtaining RMSE values that are lower than the tolerance outlined in the project rubric. \n",
    "\n",
    "This project involves the Term 2 Simulator which can be downloaded [here](https://github.com/udacity/self-driving-car-sim/releases)\n",
    "\n",
    "This repository includes two files that can be used to set up and install [uWebSocketIO](https://github.com/uWebSockets/uWebSockets) for either Linux or Mac systems. For windows you can use either Docker, VMware, or even [Windows 10 Bash on Ubuntu](https://www.howtogeek.com/249966/how-to-install-and-use-the-linux-bash-shell-on-windows-10/) to install uWebSocketIO. Please see [this concept in the classroom](https://classroom.udacity.com/nanodegrees/nd013/parts/40f38239-66b6-46ec-ae68-03afd8a601c8/modules/0949fca6-b379-42af-a919-ee50aa304e6a/lessons/f758c44c-5e40-4e01-93b5-1a82aa4e044f/concepts/16cf4a78-4fc7-49e1-8621-3450ca938b77) for the required version and installation scripts.\n",
    "\n",
    "Once the install for uWebSocketIO is complete, the main program can be built and run by doing the following from the project top directory.\n",
    "\n",
    "1. mkdir build\n",
    "2. cd build\n",
    "3. cmake ..\n",
    "4. make\n",
    "5. ./ExtendedKF\n",
    "\n",
    "Tips for setting up your environment can be found [here](https://classroom.udacity.com/nanodegrees/nd013/parts/40f38239-66b6-46ec-ae68-03afd8a601c8/modules/0949fca6-b379-42af-a919-ee50aa304e6a/lessons/f758c44c-5e40-4e01-93b5-1a82aa4e044f/concepts/23d376c7-0195-4276-bdf0-e02f1f3c665d)\n",
    "\n",
    "##### Kalman Filter\n",
    "    Kalman filters are used when you cannot measure something directly, but you have indirect measurements available.\n",
    "    The intuition behind kalman filters is that it continuously corrects itself by making a prediction and correcting its belief using the measurements received from various sensors.\n",
    "\n",
    "##### Kalman FIlter Equations\n",
    "Kalman filter follows an end-less loop of PREDICTION-MEASUREMENT UPDATE functions\n",
    "\n",
    "![Kalman Filter Equations](writeup_images/KFEq.jpg)\n",
    "\n",
    "\n",
    "##### Extended Kalman Filters\n",
    "\n",
    "Kalman filters assume the predictions and associated noise parameters to be described as a Gaussian function. When these become non-linear, such as in the case of RADAR measurements, a flavour of Kalman filters called Extended Kalman Filters can be used.\n",
    "\n",
    "    The basic intuition between the two filters is the same, only difference is that the EKF will approximate the measurement function which is non-linear by a linear function that is tangent to the measurement function at its mean. This approximates the non-linear behaviour of the measurement function as linear, and hence standard Kalman Filter equations could be applied.\n",
    "    \n",
    "##### Variables for Extended Kalman Filters\n",
    "![EKF Variables](writeup_images/EKFVariables.jpg)\n"
   ]
  },
  {
   "cell_type": "markdown",
   "metadata": {},
   "source": [
    "---\n",
    "### Files Submitted & Code Quality\n",
    "\n",
    "#### 1. Submission includes all required files and can be used to run the simulator in autonomous mode\n",
    "\n",
    "My project includes the following files:\n",
    "\n",
    "|File Name        |Purpose                                                                                       |\n",
    "|:----------------|----------------------------------------------------------------------------------------------|\n",
    "|main.cpp         |communicates with the Term 2 Simulator receiving data measurements, calls a function to run the Kalman filter, calls a function to calculate RMSE                                                                       |\n",
    "|FusionEKF.cpp    |initializes the filter, calls the predict function, calls the update function                 | \n",
    "|kalman_filter.cpp|defines the predict function, the update function for lidar, and the update function for radar|\n",
    "|tools.cpp        |function to calculate RMSE and the Jacobian matrix                                            |\n",
    "|writeup_EKF.md|Contains project writeup                                                                         |   \n",
    "\n",
    "---\n",
    "#### Rubric Points\n",
    "Here I will consider the [rubric points](https://review.udacity.com/#!/rubrics/748/view) individually and describe how I addressed each point in my implementation\n",
    "\n",
    "- Compiling\n",
    "Here's a screenshot of the compilation\n",
    "![Project Compilation](writeup_images/cmake.jpg)\n",
    "\n",
    "- Accuracy\n",
    "Requirement : px, py, vx, vy output coordinates must have an RMSE <= [.11, .11, 0.52, 0.52]\n",
    "Result :\n",
    "![Execution Accuracy on Dataset1](writeup_images/Result.jpg)\n",
    "\n"
   ]
  },
  {
   "cell_type": "markdown",
   "metadata": {},
   "source": [
    "---    \n",
    "### Conclusion\n",
    "This concludes Term 2 Project 1 : Sensor Fusion with Extended Kalman Filters use case of Udacity's Self Driving Car Nanodegree Program.\n"
   ]
  },
  {
   "cell_type": "code",
   "execution_count": null,
   "metadata": {},
   "outputs": [],
   "source": []
  }
 ],
 "metadata": {
  "kernelspec": {
   "display_name": "Python 3",
   "language": "python",
   "name": "python3"
  },
  "language_info": {
   "codemirror_mode": {
    "name": "ipython",
    "version": 3
   },
   "file_extension": ".py",
   "mimetype": "text/x-python",
   "name": "python",
   "nbconvert_exporter": "python",
   "pygments_lexer": "ipython3",
   "version": "3.6.5"
  }
 },
 "nbformat": 4,
 "nbformat_minor": 2
}
